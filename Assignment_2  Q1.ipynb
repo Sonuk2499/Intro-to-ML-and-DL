{
 "cells": [
  {
   "cell_type": "code",
   "execution_count": 3,
   "id": "6cd491f7-e5f6-4437-bc5d-1049b473fbda",
   "metadata": {
    "tags": []
   },
   "outputs": [],
   "source": [
    "class LinearRegression:\n",
    "    def __init__(self, learning_rate,epochs,penalty='None',alpha=0):\n",
    "        self.lr=learning_rate\n",
    "        self.epochs=epochs\n",
    "        self.penalty = penalty\n",
    "        self.alpha=alpha\n",
    "    def fit(self, X_train, y_train):\n",
    "        n_samples, n_features = X_train.shape\n",
    "        y_train=y_train.reshape(-1,1)\n",
    "        # init parameters\n",
    "        self.weights = np.zeros((n_features,1))\n",
    "        self.bias = np.zeros((1,1))\n",
    "        \n",
    "        # gradient descent\n",
    "        for i in range(self.epochs):\n",
    "            delta= -2*(y_train-np.dot(X_train,self.weights)-self.bias)/n_samples\n",
    "            dw=0\n",
    "            if self.penalty == 'l1':\n",
    "                dw= np.dot(X_train.T,delta)+ self.alpha\n",
    "            elif self.penalty == 'l2':\n",
    "                dw= np.dot(X_train.T,delta) + 2*self.alpha*np.sum(self.weights)\n",
    "            else:\n",
    "                dw= np.dot(X_train.T,delta)\n",
    "            \n",
    "            db= np.sum(delta).reshape(1,1)\n",
    "\n",
    "            #update weights and biases\n",
    "            self.weights-= self.lr * dw\n",
    "            self.bias-= self.lr* db\n",
    "\n",
    "    def predict(self, X_test):\n",
    "        y_predicted = np.dot(X_test,self.weights)+self.bias\n",
    "        return y_predicted"
   ]
  },
  {
   "cell_type": "code",
   "execution_count": null,
   "id": "7c475ba3-2f3a-4d89-a89f-48eef827cc27",
   "metadata": {},
   "outputs": [],
   "source": []
  }
 ],
 "metadata": {
  "kernelspec": {
   "display_name": "Python 3 (ipykernel)",
   "language": "python",
   "name": "python3"
  },
  "language_info": {
   "codemirror_mode": {
    "name": "ipython",
    "version": 3
   },
   "file_extension": ".py",
   "mimetype": "text/x-python",
   "name": "python",
   "nbconvert_exporter": "python",
   "pygments_lexer": "ipython3",
   "version": "3.11.3"
  }
 },
 "nbformat": 4,
 "nbformat_minor": 5
}
