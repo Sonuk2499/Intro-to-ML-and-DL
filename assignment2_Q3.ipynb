{
 "cells": [
  {
   "cell_type": "code",
   "execution_count": 1,
   "id": "da8d74db-f993-4379-938b-e2e18ae6d48f",
   "metadata": {
    "tags": []
   },
   "outputs": [
    {
     "name": "stdout",
     "output_type": "stream",
     "text": [
      "(569, 30)\n",
      "(569,)\n"
     ]
    }
   ],
   "source": [
    "from sklearn.datasets import load_breast_cancer\n",
    "data = load_breast_cancer()\n",
    "Y=data.target\n",
    "X = data.data\n",
    "print(X.shape)\n",
    "print(Y.shape)"
   ]
  },
  {
   "cell_type": "code",
   "execution_count": 2,
   "id": "50e0b9c8-7fe6-4f3c-8942-f1ee77e5f253",
   "metadata": {
    "tags": []
   },
   "outputs": [],
   "source": [
    "from sklearn.preprocessing import MinMaxScaler\n",
    "scaler = MinMaxScaler()\n",
    "X=scaler.fit_transform(X)"
   ]
  },
  {
   "cell_type": "code",
   "execution_count": 3,
   "id": "a21066a3-0244-4ed7-9621-cdfeac53d3a9",
   "metadata": {
    "tags": []
   },
   "outputs": [
    {
     "name": "stdout",
     "output_type": "stream",
     "text": [
      "(426, 30)\n",
      "(426,)\n",
      "(143, 30)\n",
      "(143,)\n"
     ]
    }
   ],
   "source": [
    "from sklearn.model_selection import train_test_split\n",
    "X_train,X_test,y_train,y_test = train_test_split(X,Y,test_size=0.25)\n",
    "print(X_train.shape)\n",
    "print(y_train.shape)\n",
    "print(X_test.shape)\n",
    "print(y_test.shape)"
   ]
  },
  {
   "cell_type": "code",
   "execution_count": 4,
   "id": "e8a4033b-3d66-499f-88cd-0d711c06a887",
   "metadata": {
    "tags": []
   },
   "outputs": [],
   "source": [
    "import numpy as np\n",
    "def sigmoid(z):\n",
    "    a=1.0/(1.0+ np.exp(-z))\n",
    "    return a\n",
    "def sigmoid_derivative(z):\n",
    "    return sigmoid(z)*(1-sigmoid(z))\n",
    "\n",
    "class LogisticRegression:\n",
    "    def __init__(self, learning_rate,epochs,penalty='None',alpha=0):\n",
    "        self.lr=learning_rate\n",
    "        self.epochs=epochs\n",
    "        self.penalty = penalty\n",
    "        self.alpha=alpha\n",
    "\n",
    "    def fit(self, X, y):\n",
    "        n_samples, n_features = X.shape\n",
    "        y = y.reshape(-1, 1)\n",
    "        self.weights=np.random.randn(n_features,1)/np.sqrt(n_features)\n",
    "        self.bias= np.random.randn(1,1)\n",
    "\n",
    "        for i in range(self.epochs):\n",
    "            z = np.dot(X,self.weights) + self.bias\n",
    "            y_pred = sigmoid(z)\n",
    "\n",
    "            \n",
    "            dw = -np.dot(X.T,(y - y_pred))/n_samples\n",
    "\n",
    "            if self.penalty == 'l1':\n",
    "                dw += self.alpha\n",
    "            elif self.penalty == 'l2':\n",
    "                dw += 2*self.alpha*np.sum(self.weights)\n",
    "                \n",
    "            db = -np.sum(y - y_pred)/n_samples\n",
    "            self.weights -= self.lr* dw\n",
    "            self.bias-= self.lr* db\n",
    "\n",
    "    def predict(self, X):\n",
    "        y_pred = np.dot(X,self.weights)+self.bias\n",
    "        Y_proba_pred=y_pred\n",
    "        for i in range(len(y_pred)):\n",
    "            if y_pred[i]<= 0.5:\n",
    "                y_pred[i] = 0\n",
    "            else:\n",
    "                y_pred[i] = 1   \n",
    "        return (Y_proba_pred,y_pred)"
   ]
  },
  {
   "cell_type": "code",
   "execution_count": 5,
   "id": "91020857-bbe1-4597-9d1e-cd94b8c9c8f2",
   "metadata": {
    "tags": []
   },
   "outputs": [],
   "source": [
    "# Create an instance of LogisticRegression\n",
    "logreg1 = LogisticRegression(0.1,3000) #Play around with different learning rates and epochs\n",
    "logreg2 = LogisticRegression(0.1,3000,penalty='l1',alpha=0.01)\n",
    "logreg3 = LogisticRegression(0.1,3000,penalty='l1',alpha=0.01)\n",
    "\n",
    "# Train the model\n",
    "logreg1.fit(X_train,y_train)\n",
    "logreg2.fit(X_train,y_train)\n",
    "logreg3.fit(X_train,y_train)\n",
    "\n",
    "# Make predictions on the test set\n",
    "Y_proba_pred1,y_pred1 = logreg1.predict(X_test)\n",
    "Y_proba_pred2,y_pred2 = logreg2.predict(X_test)\n",
    "Y_proba_pred3,y_pred3 = logreg3.predict(X_test)"
   ]
  },
  {
   "cell_type": "code",
   "execution_count": 6,
   "id": "129ca70c-1396-4aea-830f-883d335876a9",
   "metadata": {
    "tags": []
   },
   "outputs": [
    {
     "name": "stdout",
     "output_type": "stream",
     "text": [
      "0.9790209790209791\n",
      "0.958041958041958\n",
      "0.958041958041958\n"
     ]
    }
   ],
   "source": [
    "from sklearn.metrics import accuracy_score\n",
    "print(accuracy_score(y_test,y_pred1))\n",
    "print(accuracy_score(y_test,y_pred2))\n",
    "print(accuracy_score(y_test,y_pred3))"
   ]
  },
  {
   "cell_type": "code",
   "execution_count": 7,
   "id": "eedabae1-4769-4ccc-8087-336ec27a9dd2",
   "metadata": {
    "tags": []
   },
   "outputs": [
    {
     "name": "stdout",
     "output_type": "stream",
     "text": [
      "0.9370629370629371\n",
      "0.972027972027972\n",
      "0.9790209790209791\n",
      "0.9790209790209791\n"
     ]
    },
    {
     "name": "stderr",
     "output_type": "stream",
     "text": [
      "C:\\Users\\sonuk\\AppData\\Local\\Programs\\Python\\Python311\\Lib\\site-packages\\sklearn\\linear_model\\_sag.py:350: ConvergenceWarning: The max_iter was reached which means the coef_ did not converge\n",
      "  warnings.warn(\n"
     ]
    }
   ],
   "source": [
    "from sklearn.linear_model import LogisticRegression as LR\n",
    "logreg4 = LR(penalty=None)\n",
    "logreg5 = LR(penalty='l1',solver='saga')\n",
    "logreg6 = LR(penalty=\"l2\")\n",
    "logreg7 = LR(penalty=\"elasticnet\",l1_ratio=0.4,solver='saga')\n",
    "\n",
    "logreg4.fit(X_train,y_train)\n",
    "logreg5.fit(X_train,y_train)\n",
    "logreg6.fit(X_train,y_train)\n",
    "logreg7.fit(X_train,y_train)\n",
    "\n",
    "y_pred4 = logreg4.predict(X_test)\n",
    "y_pred5 = logreg5.predict(X_test)\n",
    "y_pred6 = logreg6.predict(X_test)\n",
    "y_pred7 = logreg6.predict(X_test)\n",
    "\n",
    "print(accuracy_score(y_test,y_pred4))\n",
    "print(accuracy_score(y_test,y_pred5))\n",
    "print(accuracy_score(y_test,y_pred6))\n",
    "print(accuracy_score(y_test,y_pred7))"
   ]
  },
  {
   "cell_type": "code",
   "execution_count": 8,
   "id": "df76c4be-4fc1-4eff-b7c1-9fbdca586464",
   "metadata": {
    "tags": []
   },
   "outputs": [
    {
     "name": "stdout",
     "output_type": "stream",
     "text": [
      "              precision    recall  f1-score   support\n",
      "\n",
      "   malignant       0.96      0.98      0.97        54\n",
      "      benign       0.99      0.98      0.98        89\n",
      "\n",
      "    accuracy                           0.98       143\n",
      "   macro avg       0.98      0.98      0.98       143\n",
      "weighted avg       0.98      0.98      0.98       143\n",
      "\n",
      "              precision    recall  f1-score   support\n",
      "\n",
      "   malignant       1.00      0.93      0.96        54\n",
      "      benign       0.96      1.00      0.98        89\n",
      "\n",
      "    accuracy                           0.97       143\n",
      "   macro avg       0.98      0.96      0.97       143\n",
      "weighted avg       0.97      0.97      0.97       143\n",
      "\n"
     ]
    }
   ],
   "source": [
    "from sklearn.metrics import classification_report\n",
    "target_names = data.target_names\n",
    "print(classification_report(y_test, y_pred1, target_names=target_names))\n",
    "print(classification_report(y_test, y_pred5, target_names=target_names))"
   ]
  },
  {
   "cell_type": "code",
   "execution_count": 9,
   "id": "331d5d94-d202-4ce8-a057-ccc4ca20eeb9",
   "metadata": {
    "tags": []
   },
   "outputs": [
    {
     "name": "stdout",
     "output_type": "stream",
     "text": [
      "[[53  1]\n",
      " [ 2 87]]\n",
      "[[50  4]\n",
      " [ 0 89]]\n"
     ]
    }
   ],
   "source": [
    "from sklearn.metrics import confusion_matrix\n",
    "print(confusion_matrix(y_test, y_pred1))\n",
    "print(confusion_matrix(y_test, y_pred5))"
   ]
  },
  {
   "cell_type": "code",
   "execution_count": 10,
   "id": "a9bf3062-2dc0-4b28-b59d-228081e37f97",
   "metadata": {
    "tags": []
   },
   "outputs": [
    {
     "name": "stdout",
     "output_type": "stream",
     "text": [
      "0.9977111943404078\n",
      "0.9626508531002914\n"
     ]
    }
   ],
   "source": [
    "from sklearn.metrics import roc_auc_score\n",
    "print(roc_auc_score(y_test, logreg5.predict_proba(X_test)[:, 1]))\n",
    "print(roc_auc_score(y_test, Y_proba_pred2))"
   ]
  },
  {
   "cell_type": "code",
   "execution_count": 11,
   "id": "60272199-b50e-4808-a975-d9dcc70eb51a",
   "metadata": {
    "tags": []
   },
   "outputs": [
    {
     "data": {
      "image/png": "[encoded data removed]",
      "text/plain": [
       "<Figure size 600x600 with 1 Axes>"
      ]
     },
     "metadata": {},
     "output_type": "display_data"
    }
   ],
   "source": [
    "from sklearn.metrics import roc_curve\n",
    "import matplotlib.pyplot as plt\n",
    "plt.figure(figsize=(6,6))\n",
    "fpr1, tpr1, _ = roc_curve(y_test, logreg5.predict_proba(X_test)[:, 1], pos_label=1)\n",
    "fpr2, tpr2, _= roc_curve(y_test, Y_proba_pred2, pos_label=1)\n",
    "plt.plot(fpr1,tpr1,color='red')\n",
    "plt.plot(fpr2,tpr2,color='blue')\n",
    "plt.show()"
   ]
  },
  {
   "cell_type": "code",
   "execution_count": null,
   "id": "ed67b39a-b58e-4c1d-bf4a-bd2458a15fee",
   "metadata": {},
   "outputs": [],
   "source": []
  }
 ],
 "metadata": {
  "kernelspec": {
   "display_name": "Python 3 (ipykernel)",
   "language": "python",
   "name": "python3"
  },
  "language_info": {
   "codemirror_mode": {
    "name": "ipython",
    "version": 3
   },
   "file_extension": ".py",
   "mimetype": "text/x-python",
   "name": "python",
   "nbconvert_exporter": "python",
   "pygments_lexer": "ipython3",
   "version": "3.11.3"
  }
 },
 "nbformat": 4,
 "nbformat_minor": 5
}
